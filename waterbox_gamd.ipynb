{
 "cells": [
  {
   "cell_type": "code",
   "execution_count": 1,
   "metadata": {},
   "outputs": [],
   "source": [
    "from simtk.openmm.app import *\n",
    "from simtk.openmm import *\n",
    "from simtk.unit import *\n",
    "import numpy as np\n",
    "import matplotlib.pyplot as plt\n",
    "import tqdm\n",
    "import statsmodels.api as sm\n",
    "from statsmodels.tsa.ar_model import AutoReg\n",
    "\n",
    "TEMPERATURE = 298*kelvin\n",
    "FRICTION = 1/picosecond\n",
    "TIMESTEP = 2*femtoseconds"
   ]
  },
  {
   "cell_type": "markdown",
   "metadata": {},
   "source": [
    "# Generate a small waterbox:"
   ]
  },
  {
   "cell_type": "code",
   "execution_count": 2,
   "metadata": {},
   "outputs": [],
   "source": [
    "f = open('tip3p-1.pdb', 'w')\n",
    "s = \"\"\"REMARK   1 CREATED WITH OPENMM 7.1.1, 2018-04-06\n",
    "CRYST1   24.668   24.668   24.668  90.00  90.00  90.00 P 1           1 \n",
    "HETATM    1  O   HOH A   1      20.854   7.945   2.695  1.00  0.00           O  \n",
    "HETATM    2  H1  HOH A   1      20.168   7.772   3.339  1.00  0.00           H  \n",
    "HETATM    3  H2  HOH A   1      21.142   8.838   2.885  1.00  0.00           H  \n",
    "END\n",
    "\"\"\"\n",
    "f.write(s)\n",
    "f.close()"
   ]
  },
  {
   "cell_type": "code",
   "execution_count": 3,
   "metadata": {},
   "outputs": [],
   "source": [
    "pdb = PDBFile('tip3p-1.pdb')\n",
    "omm_forcefield= ForceField('amber14/tip3pfb.xml')\n",
    "modeller = Modeller(pdb.topology, pdb.positions)\n",
    "modeller.addSolvent(omm_forcefield, ionicStrength=0.15*molar)\n",
    "PDBFile.writeFile(modeller.topology, modeller.positions, file=open('solvated.pdb', 'w'))\n",
    "\n",
    "sod = [i.index for i in modeller.topology.atoms() if i.residue.name=='NA'][0]\n",
    "cla = [i.index for i in modeller.topology.atoms() if i.residue.name=='CL'][0]"
   ]
  },
  {
   "cell_type": "code",
   "execution_count": 4,
   "metadata": {},
   "outputs": [],
   "source": [
    "system = omm_forcefield.createSystem(modeller.topology, nonbondedMethod=PME,\n",
    "         nonbondedCutoff=0.9*nanometer, constraints=HBonds)\n",
    "\n",
    "\n",
    "\n",
    "integrator = LangevinIntegrator(TEMPERATURE, FRICTION, TIMESTEP)\n",
    "platform = Platform.getPlatformByName('OpenCL')\n",
    "prop = {'OpenCLPrecision':'single'}\n",
    "\n",
    "simulation = Simulation(modeller.topology, system, integrator, platform, prop)\n",
    "simulation.context.setPositions(modeller.positions)\n",
    "simulation.minimizeEnergy()\n"
   ]
  },
  {
   "cell_type": "markdown",
   "metadata": {},
   "source": [
    "# Equilibrate the box size, and take some statistics on PE"
   ]
  },
  {
   "cell_type": "code",
   "execution_count": 5,
   "metadata": {},
   "outputs": [
    {
     "data": {
      "application/vnd.jupyter.widget-view+json": {
       "model_id": "8467b83f4393422bb9a4681d91b4f078",
       "version_major": 2,
       "version_minor": 0
      },
      "text/plain": [
       "HBox(children=(IntProgress(value=0, max=5000), HTML(value='')))"
      ]
     },
     "metadata": {},
     "output_type": "display_data"
    },
    {
     "name": "stdout",
     "output_type": "stream",
     "text": [
      "\n"
     ]
    }
   ],
   "source": [
    "cmd_pe = list()\n",
    "distances = list()\n",
    "for i in tqdm.tqdm_notebook(range(5000)):\n",
    "    simulation.step(50)\n",
    "    state = simulation.context.getState(getEnergy=True)\n",
    "    nrg = state.getPotentialEnergy()\n",
    "    cmd_pe.append(nrg)"
   ]
  },
  {
   "cell_type": "code",
   "execution_count": 6,
   "metadata": {},
   "outputs": [],
   "source": [
    "# save this state so we can return to it:\n",
    "saved_state = simulation.context.getState(getPositions=True, getVelocities=True)"
   ]
  },
  {
   "cell_type": "code",
   "execution_count": 7,
   "metadata": {},
   "outputs": [],
   "source": [
    "#cut off first 100 samples as equilibration\n",
    "pe = np.array([i/kilojoule*mole for i in cmd_pe[50:]])\n"
   ]
  },
  {
   "cell_type": "markdown",
   "metadata": {},
   "source": [
    "# Define a GaMDLangevinIntegrator:"
   ]
  },
  {
   "cell_type": "code",
   "execution_count": 20,
   "metadata": {},
   "outputs": [],
   "source": [
    "class CustomGaMDLangevinIntegrator(CustomIntegrator):\n",
    "    def __init__(self, temperature, friction, dt, k, E):\n",
    "        self.k = k \n",
    "        self.E = E #threshold value\n",
    "        \n",
    "        CustomIntegrator.__init__(self, dt)\n",
    "            #lew added:\n",
    "        self.addGlobalVariable(\"k\", k)\n",
    "        self.addGlobalVariable(\"E\", E)\n",
    "            #normal langevin:  \n",
    "        self.addGlobalVariable(\"temperature\", temperature);\n",
    "        self.addGlobalVariable(\"friction\", friction);\n",
    "        self.addGlobalVariable(\"vscale\", 0);\n",
    "        self.addGlobalVariable(\"fscale\", 0);\n",
    "        self.addGlobalVariable(\"noisescale\", 0);\n",
    "        self.addPerDofVariable(\"x0\", 0);\n",
    "            #normal langevin:                                                                  \n",
    "        self.addUpdateContextState();\n",
    "        self.addComputeGlobal(\"vscale\", \"exp(-dt*friction)\");\n",
    "        self.addComputeGlobal(\"fscale\", \"(1-vscale)/friction\");\n",
    "        #original line:                \n",
    "        self.addComputeGlobal(\"noisescale\", \"sqrt(kT*(1-vscale*vscale)); kT=0.00831451*temperature\");\n",
    "        self.addComputePerDof(\"x0\", \"x\");\n",
    "            #original langevin line:                                                                                      \n",
    "        #self.addComputePerDof(\"v\", \"vscale*v + fscale*f/m + noisescale*gaussian/sqrt(m)\");  \n",
    "            #GaMD:\n",
    "        #self.addComputePerDof(\"v\", \"vscale*v + fscale*fprime/m + noisescale*gaussian/sqrt(m);fprime=f*((1-modify) + modify*(alpha/(alpha+E-energy))^2);modify=step(E-energy)\"); \n",
    "        dof_string = \"vscale*v + fscale*f_select/m + noisescale*gaussian/sqrt(m);\"\n",
    "        dof_string+= \"f_select = f + modify*boost;\" #if energy is below threshold 'E', then add the boost potential 'fprime'\n",
    "        dof_string+= \"modify = step(E-energy);\" #'modify' will be 1 when energy is below E\n",
    "        dof_string+= \"boost= 0.5 * k * (E - energy)^2;\"\n",
    "        \n",
    "        \n",
    "        self.addComputePerDof(\"v\", dof_string); \n",
    "        #self.addComputePerDof(\"v\", \"v+dt*fprime/m; fprime=f*((1-modify) + modify*(alpha/(alpha+E-energy))^2); modify=step(E-energy)\")\n",
    "            #normal langevin                                            \n",
    "        self.addComputePerDof(\"x\", \"x+dt*v\");\n",
    "        self.addConstrainPositions();\n",
    "        self.addComputePerDof(\"v\", \"(x-x0)/dt\");\n",
    "        self.addComputePerDof(\"veloc\", \"v\")\n",
    "        \n",
    "    def getEffectiveEnergy(self, energy):\n",
    "        \"\"\"Given the actual potential energy of the system, return the value of the effective potential.\"\"\"\n",
    "        k = self.k\n",
    "        E = self.E\n",
    "        if not is_quantity(energy):\n",
    "            energy = energy*kilojoules_per_mole # Assume kJ/mole\n",
    "        if (energy > E):\n",
    "            return energy\n",
    "        return energy + ( 0.5 * k * (E-energy)**2 )/kilojoules_per_mole # 'k' parameter should instead be per kj/mol\n",
    "\n"
   ]
  },
  {
   "cell_type": "code",
   "execution_count": null,
   "metadata": {},
   "outputs": [],
   "source": [
    "CustomGaMDLangevinIntegrator"
   ]
  },
  {
   "cell_type": "markdown",
   "metadata": {},
   "source": [
    "# make a convenience function to create GaMD systems:"
   ]
  },
  {
   "cell_type": "code",
   "execution_count": 22,
   "metadata": {},
   "outputs": [],
   "source": [
    "def make_GaMD_system(modeller, state, E, k):\n",
    "    system = omm_forcefield.createSystem(modeller.topology, nonbondedMethod=PME,\n",
    "         nonbondedCutoff=0.9*nanometer, constraints=HBonds)\n",
    "\n",
    "    integrator = CustomGaMDLangevinIntegrator(TEMPERATURE, \n",
    "                                             FRICTION, \n",
    "                                             TIMESTEP, \n",
    "                                             k=float(k),\n",
    "                                             E=float(E)*kilojoules_per_mole)\n",
    "    platform = Platform.getPlatformByName('OpenCL')\n",
    "    prop = {'OpenCLPrecision':'single'}\n",
    "\n",
    "    simulation = Simulation(modeller.topology, system, integrator, platform, prop)\n",
    "    simulation.context.setPositions(state.getPositions())\n",
    "    simulation.context.setVelocities(state.getVelocities())\n",
    "    simulation.context.setPeriodicBoxVectors(*saved_state.getPeriodicBoxVectors())\n",
    "    \n",
    "    return simulation"
   ]
  },
  {
   "cell_type": "markdown",
   "metadata": {},
   "source": [
    "# Set some initial parameters after the cMD run:\n",
    "\n",
    "We will set the boost potential in the \"minimum\" option, which means equivalent to `Vmax`"
   ]
  },
  {
   "cell_type": "code",
   "execution_count": 23,
   "metadata": {},
   "outputs": [
    {
     "name": "stdout",
     "output_type": "stream",
     "text": [
      "Sigma0: 24.777127964236243\n",
      "Vmax: -23570.063792518504,\n",
      "Vmin: -24592.040355018507,\n",
      "Vavg: -24085.708096495782,\n",
      "Vstd: 153.6235824203924\n"
     ]
    }
   ],
   "source": [
    "#set the desired maximum standard deviation of the boost potential to be 10kT: \n",
    "sigma_0 = (MOLAR_GAS_CONSTANT_R * TEMPERATURE ).value_in_unit(kilojoule_per_mole) * 10\n",
    "print(f'Sigma0: {sigma_0}')\n",
    "\n",
    "#potential energy statistics:\n",
    "Vmax = pe.max()\n",
    "Vmin = pe.min()\n",
    "Vavg = pe.mean()\n",
    "Vstd = np.std(pe)\n",
    "\n",
    "print(f'Vmax: {Vmax},\\nVmin: {Vmin},\\nVavg: {Vavg},\\nVstd: {Vstd}')"
   ]
  },
  {
   "cell_type": "markdown",
   "metadata": {},
   "source": [
    "Determining the k parameter based on prof Miaos rules:"
   ]
  },
  {
   "cell_type": "code",
   "execution_count": 24,
   "metadata": {},
   "outputs": [
    {
     "name": "stdout",
     "output_type": "stream",
     "text": [
      "k_0: 0.3196566816180802,\n",
      "k: 0.00031278279106139385\n"
     ]
    }
   ],
   "source": [
    "k_0 = min(1, sigma_0/Vstd * ((Vmax-Vmin)/(Vmax-Vavg)))\n",
    "\n",
    "k = k_0 * (1 / (Vmax - Vmin) )\n",
    "\n",
    "print(f'k_0: {k_0},\\nk: {k}')"
   ]
  },
  {
   "cell_type": "code",
   "execution_count": 27,
   "metadata": {
    "scrolled": true
   },
   "outputs": [
    {
     "data": {
      "application/vnd.jupyter.widget-view+json": {
       "model_id": "dc4e036fbb54484590faf1588c354c05",
       "version_major": 2,
       "version_minor": 0
      },
      "text/plain": [
       "HBox(children=(IntProgress(value=0, max=500), HTML(value='')))"
      ]
     },
     "metadata": {},
     "output_type": "display_data"
    },
    {
     "name": "stdout",
     "output_type": "stream",
     "text": [
      "\n",
      "-23313.235667518504 0.0008510008699545471\n"
     ]
    },
    {
     "data": {
      "application/vnd.jupyter.widget-view+json": {
       "model_id": "0a12e3a7b86b4f7ebad8b6a6398647a9",
       "version_major": 2,
       "version_minor": 0
      },
      "text/plain": [
       "HBox(children=(IntProgress(value=0, max=500), HTML(value='')))"
      ]
     },
     "metadata": {},
     "output_type": "display_data"
    },
    {
     "name": "stdout",
     "output_type": "stream",
     "text": [
      "\n",
      "-23107.704417518504 0.000898035229981654\n"
     ]
    },
    {
     "data": {
      "application/vnd.jupyter.widget-view+json": {
       "model_id": "fa89a91a396b46c09ef7e94434584574",
       "version_major": 2,
       "version_minor": 0
      },
      "text/plain": [
       "HBox(children=(IntProgress(value=0, max=500), HTML(value='')))"
      ]
     },
     "metadata": {},
     "output_type": "display_data"
    },
    {
     "name": "stdout",
     "output_type": "stream",
     "text": [
      "\n",
      "-22998.485667518504 0.0012108067180207735\n"
     ]
    },
    {
     "data": {
      "application/vnd.jupyter.widget-view+json": {
       "model_id": "c41f5843aa4742668c1492377fdefafd",
       "version_major": 2,
       "version_minor": 0
      },
      "text/plain": [
       "HBox(children=(IntProgress(value=0, max=500), HTML(value='')))"
      ]
     },
     "metadata": {},
     "output_type": "display_data"
    },
    {
     "name": "stdout",
     "output_type": "stream",
     "text": [
      "\n",
      "-22758.360667518504 0.0008456136543419983\n"
     ]
    },
    {
     "data": {
      "application/vnd.jupyter.widget-view+json": {
       "model_id": "e9f24eb6c8db4e588d9e9948629adff0",
       "version_major": 2,
       "version_minor": 0
      },
      "text/plain": [
       "HBox(children=(IntProgress(value=0, max=500), HTML(value='')))"
      ]
     },
     "metadata": {},
     "output_type": "display_data"
    },
    {
     "name": "stdout",
     "output_type": "stream",
     "text": [
      "\n",
      "-22665.141917518504 0.0010400674300113796\n"
     ]
    },
    {
     "data": {
      "application/vnd.jupyter.widget-view+json": {
       "model_id": "fccc837c80994b90a913861dd718e572",
       "version_major": 2,
       "version_minor": 0
      },
      "text/plain": [
       "HBox(children=(IntProgress(value=0, max=500), HTML(value='')))"
      ]
     },
     "metadata": {},
     "output_type": "display_data"
    },
    {
     "name": "stdout",
     "output_type": "stream",
     "text": [
      "\n",
      "-22421.079417518504 0.0007187675706855592\n"
     ]
    },
    {
     "data": {
      "application/vnd.jupyter.widget-view+json": {
       "model_id": "81bf48fa1ad4423ab9836d0661df9152",
       "version_major": 2,
       "version_minor": 0
      },
      "text/plain": [
       "HBox(children=(IntProgress(value=0, max=500), HTML(value='')))"
      ]
     },
     "metadata": {},
     "output_type": "display_data"
    },
    {
     "name": "stdout",
     "output_type": "stream",
     "text": [
      "\n",
      "-22227.157542518504 0.0006540396595607394\n"
     ]
    },
    {
     "data": {
      "application/vnd.jupyter.widget-view+json": {
       "model_id": "85c22781e6bc4b0789cc1967ebd1d239",
       "version_major": 2,
       "version_minor": 0
      },
      "text/plain": [
       "HBox(children=(IntProgress(value=0, max=500), HTML(value='')))"
      ]
     },
     "metadata": {},
     "output_type": "display_data"
    },
    {
     "name": "stdout",
     "output_type": "stream",
     "text": [
      "\n",
      "-22150.899730018504 0.0007988728385350641\n"
     ]
    },
    {
     "data": {
      "application/vnd.jupyter.widget-view+json": {
       "model_id": "9f1b370eddfa4908bf42ef27073159a1",
       "version_major": 2,
       "version_minor": 0
      },
      "text/plain": [
       "HBox(children=(IntProgress(value=0, max=500), HTML(value='')))"
      ]
     },
     "metadata": {},
     "output_type": "display_data"
    },
    {
     "name": "stdout",
     "output_type": "stream",
     "text": [
      "\n",
      "-22069.149730018504 0.000898942850982817\n"
     ]
    },
    {
     "data": {
      "application/vnd.jupyter.widget-view+json": {
       "model_id": "fc119e55b6cb427b97dff2b85c04a5ff",
       "version_major": 2,
       "version_minor": 0
      },
      "text/plain": [
       "HBox(children=(IntProgress(value=0, max=500), HTML(value='')))"
      ]
     },
     "metadata": {},
     "output_type": "display_data"
    },
    {
     "name": "stdout",
     "output_type": "stream",
     "text": [
      "\n",
      "-21942.563792518504 0.0008153180606868119\n"
     ]
    },
    {
     "data": {
      "application/vnd.jupyter.widget-view+json": {
       "model_id": "4a941a3665bb46b4bfb1bbb56dc7c6cc",
       "version_major": 2,
       "version_minor": 0
      },
      "text/plain": [
       "HBox(children=(IntProgress(value=0, max=500), HTML(value='')))"
      ]
     },
     "metadata": {},
     "output_type": "display_data"
    },
    {
     "name": "stdout",
     "output_type": "stream",
     "text": [
      "\n",
      "-21833.259105018504 0.0007945836257764353\n"
     ]
    },
    {
     "data": {
      "application/vnd.jupyter.widget-view+json": {
       "model_id": "bcd65d472f59499c81be9b7ec57add19",
       "version_major": 2,
       "version_minor": 0
      },
      "text/plain": [
       "HBox(children=(IntProgress(value=0, max=500), HTML(value='')))"
      ]
     },
     "metadata": {},
     "output_type": "display_data"
    },
    {
     "name": "stdout",
     "output_type": "stream",
     "text": [
      "\n",
      "-21739.860667518504 0.0008429854158553008\n"
     ]
    },
    {
     "data": {
      "application/vnd.jupyter.widget-view+json": {
       "model_id": "11f228ad64424a42956795dba1c790a2",
       "version_major": 2,
       "version_minor": 0
      },
      "text/plain": [
       "HBox(children=(IntProgress(value=0, max=500), HTML(value='')))"
      ]
     },
     "metadata": {},
     "output_type": "display_data"
    },
    {
     "name": "stdout",
     "output_type": "stream",
     "text": [
      "\n",
      "-21506.095042518504 0.0005579949537229754\n"
     ]
    },
    {
     "data": {
      "application/vnd.jupyter.widget-view+json": {
       "model_id": "6141f7ef1d7b4708ba7585c941f1cf3e",
       "version_major": 2,
       "version_minor": 0
      },
      "text/plain": [
       "HBox(children=(IntProgress(value=0, max=500), HTML(value='')))"
      ]
     },
     "metadata": {},
     "output_type": "display_data"
    },
    {
     "name": "stdout",
     "output_type": "stream",
     "text": [
      "\n",
      "-21586.979299835206 0.000922993464205925\n"
     ]
    },
    {
     "data": {
      "application/vnd.jupyter.widget-view+json": {
       "model_id": "a9c3c2997a914ba4ba34620dda25f514",
       "version_major": 2,
       "version_minor": 0
      },
      "text/plain": [
       "HBox(children=(IntProgress(value=0, max=500), HTML(value='')))"
      ]
     },
     "metadata": {},
     "output_type": "display_data"
    },
    {
     "name": "stdout",
     "output_type": "stream",
     "text": [
      "\n",
      "-21335.360667518504 0.0005527354654999063\n"
     ]
    },
    {
     "data": {
      "application/vnd.jupyter.widget-view+json": {
       "model_id": "564b14e504834c20b2cdaf868c2ff365",
       "version_major": 2,
       "version_minor": 0
      },
      "text/plain": [
       "HBox(children=(IntProgress(value=0, max=500), HTML(value='')))"
      ]
     },
     "metadata": {},
     "output_type": "display_data"
    },
    {
     "name": "stdout",
     "output_type": "stream",
     "text": [
      "\n",
      "-21392.604884502354 0.0009000053040099052\n"
     ]
    },
    {
     "data": {
      "application/vnd.jupyter.widget-view+json": {
       "model_id": "8eb40bcee25d4344b7236a856dcbd462",
       "version_major": 2,
       "version_minor": 0
      },
      "text/plain": [
       "HBox(children=(IntProgress(value=0, max=500), HTML(value='')))"
      ]
     },
     "metadata": {},
     "output_type": "display_data"
    },
    {
     "name": "stdout",
     "output_type": "stream",
     "text": [
      "\n",
      "-21039.759105018504 0.00038663812555837524\n"
     ]
    },
    {
     "data": {
      "application/vnd.jupyter.widget-view+json": {
       "model_id": "6a90b6abca7d4f3e94e48dd3cfee8c28",
       "version_major": 2,
       "version_minor": 0
      },
      "text/plain": [
       "HBox(children=(IntProgress(value=0, max=500), HTML(value='')))"
      ]
     },
     "metadata": {},
     "output_type": "display_data"
    },
    {
     "name": "stdout",
     "output_type": "stream",
     "text": [
      "\n",
      "-21226.779615502423 0.0008183843941565905\n"
     ]
    },
    {
     "data": {
      "application/vnd.jupyter.widget-view+json": {
       "model_id": "6ba8c378ecb6454a9cb71a2f80fcad79",
       "version_major": 2,
       "version_minor": 0
      },
      "text/plain": [
       "HBox(children=(IntProgress(value=0, max=500), HTML(value='')))"
      ]
     },
     "metadata": {},
     "output_type": "display_data"
    },
    {
     "name": "stdout",
     "output_type": "stream",
     "text": [
      "\n",
      "-21047.930980018504 0.0006198780297040673\n"
     ]
    },
    {
     "data": {
      "application/vnd.jupyter.widget-view+json": {
       "model_id": "b076c7f6a2024898927c41706fdc3526",
       "version_major": 2,
       "version_minor": 0
      },
      "text/plain": [
       "HBox(children=(IntProgress(value=0, max=500), HTML(value='')))"
      ]
     },
     "metadata": {},
     "output_type": "display_data"
    },
    {
     "name": "stdout",
     "output_type": "stream",
     "text": [
      "\n",
      "-21010.845042518504 0.0006673888264671946\n"
     ]
    }
   ],
   "source": [
    "\n",
    "sim = make_GaMD_system(modeller, saved_state, Vmax, k)\n",
    "\n",
    "#this will store the effective PE (i.e. the REAL potential energy felt by the system)\n",
    "pe_effective = list()\n",
    "\n",
    "#this will store the naively calculated PE (i.e. the potential without the boost)\n",
    "pe_unboosted = list()\n",
    "\n",
    "#this will store the values of k as we iteratively improve it:\n",
    "ks = list()\n",
    "          \n",
    "\n",
    "for _ in range(20):\n",
    "    \n",
    "    _pe = list()\n",
    "    _pe_eff = list()\n",
    "\n",
    "    for i in tqdm.tqdm_notebook(range(500)):\n",
    "        sim.step(50)\n",
    "        state = sim.context.getState(getEnergy=True)\n",
    "        nrg = state.getPotentialEnergy()\n",
    "\n",
    "        eff_nrg = sim.integrator.getEffectiveEnergy(nrg)\n",
    "        _pe.append(nrg)\n",
    "        _pe_eff.append(eff_nrg)\n",
    "        \n",
    "    p_amd = np.array([i/kilojoule*mole for i in _pe]) #this is the naive PE\n",
    "    p_eff = np.array([i/kilojoule*mole for i in _pe_eff]) #this is the actually experienced PE\n",
    "    \n",
    "    _vmax = p_eff.max() #maximum of actually exp. PE\n",
    "    _vmin = p_eff.min() #Minimum\n",
    "    _vavg = p_eff.mean() #average\n",
    "    _std = np.std(p_eff) #standard dev.\n",
    "    \n",
    "    k_0 = min(1,(sigma_0/_std ) * ((_vmax-_vmin)/(_vmax-_vavg)))\n",
    "    k = k_0 * (1 / (_vmax - _vmin) )\n",
    "\n",
    "    state = sim.context.getState(getPositions=True, getVelocities=True)\n",
    "\n",
    "    ks.append(k)\n",
    "    \n",
    "    print(_vmax, k)\n",
    "    \n",
    "    sim = make_GaMD_system(modeller, state, _vmax, k)\n",
    "    \n",
    "    pe_effective.append(p_eff)\n",
    "    pe_unboosted.append(p_amd)\n",
    "    "
   ]
  },
  {
   "cell_type": "markdown",
   "metadata": {},
   "source": [
    "# Assess convergence of estimated parameters k and E"
   ]
  },
  {
   "cell_type": "code",
   "execution_count": 28,
   "metadata": {},
   "outputs": [
    {
     "data": {
      "text/plain": [
       "[<matplotlib.lines.Line2D at 0x7f32e92fd390>]"
      ]
     },
     "execution_count": 28,
     "metadata": {},
     "output_type": "execute_result"
    },
    {
     "data": {
      "image/png": "[encoded data removed]",
      "text/plain": [
       "<Figure size 432x288 with 1 Axes>"
      ]
     },
     "metadata": {
      "needs_background": "light"
     },
     "output_type": "display_data"
    }
   ],
   "source": [
    "plt.plot(ks, '-o')"
   ]
  },
  {
   "cell_type": "code",
   "execution_count": 30,
   "metadata": {},
   "outputs": [
    {
     "data": {
      "text/plain": [
       "[<matplotlib.lines.Line2D at 0x7f32ea067110>]"
      ]
     },
     "execution_count": 30,
     "metadata": {},
     "output_type": "execute_result"
    },
    {
     "data": {
      "image/png": "[encoded data removed]",
      "text/plain": [
       "<Figure size 432x288 with 1 Axes>"
      ]
     },
     "metadata": {
      "needs_background": "light"
     },
     "output_type": "display_data"
    }
   ],
   "source": [
    "plt.plot([max(i) for i in pe_effective], '-o')\n"
   ]
  },
  {
   "cell_type": "markdown",
   "metadata": {},
   "source": [
    "`E` parameter has not stabilized. Do some more iterations:"
   ]
  },
  {
   "cell_type": "code",
   "execution_count": 31,
   "metadata": {},
   "outputs": [
    {
     "data": {
      "application/vnd.jupyter.widget-view+json": {
       "model_id": "1bf82ebf195b4a0dabc8822715f67d66",
       "version_major": 2,
       "version_minor": 0
      },
      "text/plain": [
       "HBox(children=(IntProgress(value=0, max=500), HTML(value='')))"
      ]
     },
     "metadata": {},
     "output_type": "display_data"
    },
    {
     "name": "stdout",
     "output_type": "stream",
     "text": [
      "\n",
      "-20910.712230018504 0.0005798682491973984\n"
     ]
    },
    {
     "data": {
      "application/vnd.jupyter.widget-view+json": {
       "model_id": "ef36bd6523bf423c94be0419f4ed99a9",
       "version_major": 2,
       "version_minor": 0
      },
      "text/plain": [
       "HBox(children=(IntProgress(value=0, max=500), HTML(value='')))"
      ]
     },
     "metadata": {},
     "output_type": "display_data"
    },
    {
     "name": "stdout",
     "output_type": "stream",
     "text": [
      "\n",
      "-20798.884105018504 0.0005096359014623196\n"
     ]
    },
    {
     "data": {
      "application/vnd.jupyter.widget-view+json": {
       "model_id": "e11cf83273ce465f88f071a2a695c19c",
       "version_major": 2,
       "version_minor": 0
      },
      "text/plain": [
       "HBox(children=(IntProgress(value=0, max=500), HTML(value='')))"
      ]
     },
     "metadata": {},
     "output_type": "display_data"
    },
    {
     "name": "stdout",
     "output_type": "stream",
     "text": [
      "\n",
      "-20825.282227451742 0.0006565859231721314\n"
     ]
    },
    {
     "data": {
      "application/vnd.jupyter.widget-view+json": {
       "model_id": "6fca83e740a14384863298203d5f9718",
       "version_major": 2,
       "version_minor": 0
      },
      "text/plain": [
       "HBox(children=(IntProgress(value=0, max=500), HTML(value='')))"
      ]
     },
     "metadata": {},
     "output_type": "display_data"
    },
    {
     "name": "stdout",
     "output_type": "stream",
     "text": [
      "\n",
      "-20713.610667518504 0.0005565739600817945\n"
     ]
    },
    {
     "data": {
      "application/vnd.jupyter.widget-view+json": {
       "model_id": "1e0b04c0918a49b3a7beebc538592721",
       "version_major": 2,
       "version_minor": 0
      },
      "text/plain": [
       "HBox(children=(IntProgress(value=0, max=500), HTML(value='')))"
      ]
     },
     "metadata": {},
     "output_type": "display_data"
    },
    {
     "name": "stdout",
     "output_type": "stream",
     "text": [
      "\n",
      "-20646.048167518504 0.0005464975955806664\n"
     ]
    },
    {
     "data": {
      "application/vnd.jupyter.widget-view+json": {
       "model_id": "d438594811374f3ab4b357b0620cf0ee",
       "version_major": 2,
       "version_minor": 0
      },
      "text/plain": [
       "HBox(children=(IntProgress(value=0, max=500), HTML(value='')))"
      ]
     },
     "metadata": {},
     "output_type": "display_data"
    },
    {
     "name": "stdout",
     "output_type": "stream",
     "text": [
      "\n",
      "-20474.673167518504 0.0004026184581494732\n"
     ]
    },
    {
     "data": {
      "application/vnd.jupyter.widget-view+json": {
       "model_id": "2198a8dd81b04b2f9332ba5ced9ed4b4",
       "version_major": 2,
       "version_minor": 0
      },
      "text/plain": [
       "HBox(children=(IntProgress(value=0, max=500), HTML(value='')))"
      ]
     },
     "metadata": {},
     "output_type": "display_data"
    },
    {
     "name": "stdout",
     "output_type": "stream",
     "text": [
      "\n",
      "-20600.693486724376 0.000586217316395066\n"
     ]
    },
    {
     "data": {
      "application/vnd.jupyter.widget-view+json": {
       "model_id": "cb802edec49f472b9ab6cda0c02c8645",
       "version_major": 2,
       "version_minor": 0
      },
      "text/plain": [
       "HBox(children=(IntProgress(value=0, max=500), HTML(value='')))"
      ]
     },
     "metadata": {},
     "output_type": "display_data"
    },
    {
     "name": "stdout",
     "output_type": "stream",
     "text": [
      "\n",
      "-20410.720042518504 0.0004149359626624501\n"
     ]
    },
    {
     "data": {
      "application/vnd.jupyter.widget-view+json": {
       "model_id": "e04f887707d34f599296285f85478cb1",
       "version_major": 2,
       "version_minor": 0
      },
      "text/plain": [
       "HBox(children=(IntProgress(value=0, max=500), HTML(value='')))"
      ]
     },
     "metadata": {},
     "output_type": "display_data"
    },
    {
     "name": "stdout",
     "output_type": "stream",
     "text": [
      "\n",
      "-20594.06508121519 0.000770611151959315\n"
     ]
    },
    {
     "data": {
      "application/vnd.jupyter.widget-view+json": {
       "model_id": "340c7812e9cb43c1824d329fdace5b17",
       "version_major": 2,
       "version_minor": 0
      },
      "text/plain": [
       "HBox(children=(IntProgress(value=0, max=500), HTML(value='')))"
      ]
     },
     "metadata": {},
     "output_type": "display_data"
    },
    {
     "name": "stdout",
     "output_type": "stream",
     "text": [
      "\n",
      "-20187.923167518504 0.0003309093340678036\n"
     ]
    },
    {
     "data": {
      "application/vnd.jupyter.widget-view+json": {
       "model_id": "c21ec15ecc704029823437e8ca81587f",
       "version_major": 2,
       "version_minor": 0
      },
      "text/plain": [
       "HBox(children=(IntProgress(value=0, max=500), HTML(value='')))"
      ]
     },
     "metadata": {},
     "output_type": "display_data"
    },
    {
     "name": "stdout",
     "output_type": "stream",
     "text": [
      "\n",
      "-20412.25802577963 0.000564499300807019\n"
     ]
    },
    {
     "data": {
      "application/vnd.jupyter.widget-view+json": {
       "model_id": "1d19b3879a5a4068b5d0cbdf95f75f92",
       "version_major": 2,
       "version_minor": 0
      },
      "text/plain": [
       "HBox(children=(IntProgress(value=0, max=500), HTML(value='')))"
      ]
     },
     "metadata": {},
     "output_type": "display_data"
    },
    {
     "name": "stdout",
     "output_type": "stream",
     "text": [
      "\n",
      "-20111.157542518504 0.00032136960197555047\n"
     ]
    },
    {
     "data": {
      "application/vnd.jupyter.widget-view+json": {
       "model_id": "757184482f6640fca46279c1457202ad",
       "version_major": 2,
       "version_minor": 0
      },
      "text/plain": [
       "HBox(children=(IntProgress(value=0, max=500), HTML(value='')))"
      ]
     },
     "metadata": {},
     "output_type": "display_data"
    },
    {
     "name": "stdout",
     "output_type": "stream",
     "text": [
      "\n",
      "-20295.811582456932 0.000518322967415191\n"
     ]
    },
    {
     "data": {
      "application/vnd.jupyter.widget-view+json": {
       "model_id": "41f7ea67c6684f4c95194cee4837f020",
       "version_major": 2,
       "version_minor": 0
      },
      "text/plain": [
       "HBox(children=(IntProgress(value=0, max=500), HTML(value='')))"
      ]
     },
     "metadata": {},
     "output_type": "display_data"
    },
    {
     "name": "stdout",
     "output_type": "stream",
     "text": [
      "\n",
      "-20334.0827317625 0.0006136049105730241\n"
     ]
    },
    {
     "data": {
      "application/vnd.jupyter.widget-view+json": {
       "model_id": "97c634b3ebb8440eae4e04e89fea4041",
       "version_major": 2,
       "version_minor": 0
      },
      "text/plain": [
       "HBox(children=(IntProgress(value=0, max=500), HTML(value='')))"
      ]
     },
     "metadata": {},
     "output_type": "display_data"
    },
    {
     "name": "stdout",
     "output_type": "stream",
     "text": [
      "\n",
      "-20191.673167518504 0.00046548258343204126\n"
     ]
    },
    {
     "data": {
      "application/vnd.jupyter.widget-view+json": {
       "model_id": "233d1a6b54704b06b36d127704800149",
       "version_major": 2,
       "version_minor": 0
      },
      "text/plain": [
       "HBox(children=(IntProgress(value=0, max=500), HTML(value='')))"
      ]
     },
     "metadata": {},
     "output_type": "display_data"
    },
    {
     "name": "stdout",
     "output_type": "stream",
     "text": [
      "\n",
      "-20175.782542518504 0.0004728531909254805\n"
     ]
    },
    {
     "data": {
      "application/vnd.jupyter.widget-view+json": {
       "model_id": "a3f925ef686c4983968a64d5260c21e7",
       "version_major": 2,
       "version_minor": 0
      },
      "text/plain": [
       "HBox(children=(IntProgress(value=0, max=500), HTML(value='')))"
      ]
     },
     "metadata": {},
     "output_type": "display_data"
    },
    {
     "name": "stdout",
     "output_type": "stream",
     "text": [
      "\n",
      "-20190.11644656099 0.0005207816082707229\n"
     ]
    },
    {
     "data": {
      "application/vnd.jupyter.widget-view+json": {
       "model_id": "6c4f144a143e46db82c6882f3efc48f7",
       "version_major": 2,
       "version_minor": 0
      },
      "text/plain": [
       "HBox(children=(IntProgress(value=0, max=500), HTML(value='')))"
      ]
     },
     "metadata": {},
     "output_type": "display_data"
    },
    {
     "name": "stdout",
     "output_type": "stream",
     "text": [
      "\n",
      "-19992.345042518504 0.00036551505223855155\n"
     ]
    },
    {
     "data": {
      "application/vnd.jupyter.widget-view+json": {
       "model_id": "56f1d4deadc24f3099ed4e363b3e2dea",
       "version_major": 2,
       "version_minor": 0
      },
      "text/plain": [
       "HBox(children=(IntProgress(value=0, max=500), HTML(value='')))"
      ]
     },
     "metadata": {},
     "output_type": "display_data"
    },
    {
     "name": "stdout",
     "output_type": "stream",
     "text": [
      "\n",
      "-20064.021318117557 0.0004343164667125328\n"
     ]
    },
    {
     "data": {
      "application/vnd.jupyter.widget-view+json": {
       "model_id": "66bb9ec434da4f52bb5aa2cb0864ced3",
       "version_major": 2,
       "version_minor": 0
      },
      "text/plain": [
       "HBox(children=(IntProgress(value=0, max=500), HTML(value='')))"
      ]
     },
     "metadata": {},
     "output_type": "display_data"
    },
    {
     "name": "stdout",
     "output_type": "stream",
     "text": [
      "\n",
      "-20027.923167518504 0.0004165655232776685\n"
     ]
    }
   ],
   "source": [
    "for _ in range(20):\n",
    "    \n",
    "    _pe = list()\n",
    "    _pe_eff = list()\n",
    "\n",
    "    for i in tqdm.tqdm_notebook(range(500)):\n",
    "        sim.step(50)\n",
    "        state = sim.context.getState(getEnergy=True)\n",
    "        nrg = state.getPotentialEnergy()\n",
    "\n",
    "        eff_nrg = sim.integrator.getEffectiveEnergy(nrg)\n",
    "        _pe.append(nrg)\n",
    "        _pe_eff.append(eff_nrg)\n",
    "        \n",
    "    p_amd = np.array([i/kilojoule*mole for i in _pe]) #this is the naive PE\n",
    "    p_eff = np.array([i/kilojoule*mole for i in _pe_eff]) #this is the actually experienced PE\n",
    "    \n",
    "    _vmax = p_eff.max() #maximum of actually exp. PE\n",
    "    _vmin = p_eff.min() #Minimum\n",
    "    _vavg = p_eff.mean() #average\n",
    "    _std = np.std(p_eff) #standard dev.\n",
    "    \n",
    "    k_0 = min(1,(sigma_0/_std ) * ((_vmax-_vmin)/(_vmax-_vavg)))\n",
    "    k = k_0 * (1 / (_vmax - _vmin) )\n",
    "\n",
    "    state = sim.context.getState(getPositions=True, getVelocities=True)\n",
    "\n",
    "    ks.append(k)\n",
    "    \n",
    "    print(_vmax, k)\n",
    "    \n",
    "    sim = make_GaMD_system(modeller, state, _vmax, k)\n",
    "    \n",
    "    pe_effective.append(p_eff)\n",
    "    pe_unboosted.append(p_amd)"
   ]
  },
  {
   "cell_type": "markdown",
   "metadata": {},
   "source": [
    "assess convergence again:"
   ]
  },
  {
   "cell_type": "code",
   "execution_count": 32,
   "metadata": {},
   "outputs": [
    {
     "data": {
      "text/plain": [
       "[<matplotlib.lines.Line2D at 0x7f32ea0eb590>]"
      ]
     },
     "execution_count": 32,
     "metadata": {},
     "output_type": "execute_result"
    },
    {
     "data": {
      "image/png": "[encoded data removed]",
      "text/plain": [
       "<Figure size 432x288 with 1 Axes>"
      ]
     },
     "metadata": {
      "needs_background": "light"
     },
     "output_type": "display_data"
    }
   ],
   "source": [
    "plt.plot([max(i) for i in pe_effective], '-o')"
   ]
  },
  {
   "cell_type": "markdown",
   "metadata": {},
   "source": [
    "maybe one more run:\n"
   ]
  },
  {
   "cell_type": "code",
   "execution_count": 35,
   "metadata": {
    "scrolled": true
   },
   "outputs": [
    {
     "data": {
      "application/vnd.jupyter.widget-view+json": {
       "model_id": "1cb0c0e7da8246f697b80845b42b5716",
       "version_major": 2,
       "version_minor": 0
      },
      "text/plain": [
       "HBox(children=(IntProgress(value=0, max=500), HTML(value='')))"
      ]
     },
     "metadata": {},
     "output_type": "display_data"
    },
    {
     "name": "stdout",
     "output_type": "stream",
     "text": [
      "\n",
      "-20085.954266549033 0.0004994627556367842\n"
     ]
    },
    {
     "data": {
      "application/vnd.jupyter.widget-view+json": {
       "model_id": "d119d58bcaaf413ea4cfd2dcc6d9e6ac",
       "version_major": 2,
       "version_minor": 0
      },
      "text/plain": [
       "HBox(children=(IntProgress(value=0, max=500), HTML(value='')))"
      ]
     },
     "metadata": {},
     "output_type": "display_data"
    },
    {
     "name": "stdout",
     "output_type": "stream",
     "text": [
      "\n",
      "-19972.251292518504 0.000397097161670129\n"
     ]
    },
    {
     "data": {
      "application/vnd.jupyter.widget-view+json": {
       "model_id": "0e5eac28856c4c4886ec2dc74eee9b65",
       "version_major": 2,
       "version_minor": 0
      },
      "text/plain": [
       "HBox(children=(IntProgress(value=0, max=500), HTML(value='')))"
      ]
     },
     "metadata": {},
     "output_type": "display_data"
    },
    {
     "name": "stdout",
     "output_type": "stream",
     "text": [
      "\n",
      "-20131.466142556117 0.0005671790010061947\n"
     ]
    },
    {
     "data": {
      "application/vnd.jupyter.widget-view+json": {
       "model_id": "ab85431d99ee43b79205be4591d255b3",
       "version_major": 2,
       "version_minor": 0
      },
      "text/plain": [
       "HBox(children=(IntProgress(value=0, max=500), HTML(value='')))"
      ]
     },
     "metadata": {},
     "output_type": "display_data"
    },
    {
     "name": "stdout",
     "output_type": "stream",
     "text": [
      "\n",
      "-20147.056744945217 0.0006647847265365572\n"
     ]
    },
    {
     "data": {
      "application/vnd.jupyter.widget-view+json": {
       "model_id": "c734af6bffcc41b6a11e779b65c47b8f",
       "version_major": 2,
       "version_minor": 0
      },
      "text/plain": [
       "HBox(children=(IntProgress(value=0, max=500), HTML(value='')))"
      ]
     },
     "metadata": {},
     "output_type": "display_data"
    },
    {
     "name": "stdout",
     "output_type": "stream",
     "text": [
      "\n",
      "-19978.454417518504 0.0004466346309811627\n"
     ]
    },
    {
     "data": {
      "application/vnd.jupyter.widget-view+json": {
       "model_id": "5a39191ace6b44ddbba10a1a87ced27e",
       "version_major": 2,
       "version_minor": 0
      },
      "text/plain": [
       "HBox(children=(IntProgress(value=0, max=500), HTML(value='')))"
      ]
     },
     "metadata": {},
     "output_type": "display_data"
    },
    {
     "name": "stdout",
     "output_type": "stream",
     "text": [
      "\n",
      "-20097.38169808471 0.0006111236829464351\n"
     ]
    },
    {
     "data": {
      "application/vnd.jupyter.widget-view+json": {
       "model_id": "b5196b857c1b43e485e0fbfa153da2a9",
       "version_major": 2,
       "version_minor": 0
      },
      "text/plain": [
       "HBox(children=(IntProgress(value=0, max=500), HTML(value='')))"
      ]
     },
     "metadata": {},
     "output_type": "display_data"
    },
    {
     "name": "stdout",
     "output_type": "stream",
     "text": [
      "\n",
      "-19994.805980018504 0.00048447281288412466\n"
     ]
    },
    {
     "data": {
      "application/vnd.jupyter.widget-view+json": {
       "model_id": "ccebea8ea7184850b65dd425f21fa841",
       "version_major": 2,
       "version_minor": 0
      },
      "text/plain": [
       "HBox(children=(IntProgress(value=0, max=500), HTML(value='')))"
      ]
     },
     "metadata": {},
     "output_type": "display_data"
    },
    {
     "name": "stdout",
     "output_type": "stream",
     "text": [
      "\n",
      "-19956.868480018504 0.00046565980406776636\n"
     ]
    },
    {
     "data": {
      "application/vnd.jupyter.widget-view+json": {
       "model_id": "7be814848cc54020a61431603f98f92c",
       "version_major": 2,
       "version_minor": 0
      },
      "text/plain": [
       "HBox(children=(IntProgress(value=0, max=500), HTML(value='')))"
      ]
     },
     "metadata": {},
     "output_type": "display_data"
    },
    {
     "name": "stdout",
     "output_type": "stream",
     "text": [
      "\n",
      "-20007.484059438506 0.000525387135390694\n"
     ]
    },
    {
     "data": {
      "application/vnd.jupyter.widget-view+json": {
       "model_id": "16b337b781ff47e8907a4d741243c5af",
       "version_major": 2,
       "version_minor": 0
      },
      "text/plain": [
       "HBox(children=(IntProgress(value=0, max=500), HTML(value='')))"
      ]
     },
     "metadata": {},
     "output_type": "display_data"
    },
    {
     "name": "stdout",
     "output_type": "stream",
     "text": [
      "\n",
      "-19916.126292518504 0.00042392202455666803\n"
     ]
    },
    {
     "data": {
      "application/vnd.jupyter.widget-view+json": {
       "model_id": "08349a82df794643b96d68f418347aa7",
       "version_major": 2,
       "version_minor": 0
      },
      "text/plain": [
       "HBox(children=(IntProgress(value=0, max=500), HTML(value='')))"
      ]
     },
     "metadata": {},
     "output_type": "display_data"
    },
    {
     "name": "stdout",
     "output_type": "stream",
     "text": [
      "\n",
      "-19805.055980018504 0.0003461233493780055\n"
     ]
    },
    {
     "data": {
      "application/vnd.jupyter.widget-view+json": {
       "model_id": "6570d9514f324770b14037318e7a12bb",
       "version_major": 2,
       "version_minor": 0
      },
      "text/plain": [
       "HBox(children=(IntProgress(value=0, max=500), HTML(value='')))"
      ]
     },
     "metadata": {},
     "output_type": "display_data"
    },
    {
     "name": "stdout",
     "output_type": "stream",
     "text": [
      "\n",
      "-20017.459172611787 0.0005542278047280617\n"
     ]
    },
    {
     "data": {
      "application/vnd.jupyter.widget-view+json": {
       "model_id": "6d37cd21884249019f04e90e0dfe6e9b",
       "version_major": 2,
       "version_minor": 0
      },
      "text/plain": [
       "HBox(children=(IntProgress(value=0, max=500), HTML(value='')))"
      ]
     },
     "metadata": {},
     "output_type": "display_data"
    },
    {
     "name": "stdout",
     "output_type": "stream",
     "text": [
      "\n",
      "-19995.610667518504 0.000566735644903463\n"
     ]
    },
    {
     "data": {
      "application/vnd.jupyter.widget-view+json": {
       "model_id": "1e0c8065933c46bdb80401de4a021e03",
       "version_major": 2,
       "version_minor": 0
      },
      "text/plain": [
       "HBox(children=(IntProgress(value=0, max=500), HTML(value='')))"
      ]
     },
     "metadata": {},
     "output_type": "display_data"
    },
    {
     "name": "stdout",
     "output_type": "stream",
     "text": [
      "\n",
      "-19811.743480018504 0.0003689018970464882\n"
     ]
    },
    {
     "data": {
      "application/vnd.jupyter.widget-view+json": {
       "model_id": "cc8e338d0a7c4ae8bfd07c21ad54034a",
       "version_major": 2,
       "version_minor": 0
      },
      "text/plain": [
       "HBox(children=(IntProgress(value=0, max=500), HTML(value='')))"
      ]
     },
     "metadata": {},
     "output_type": "display_data"
    },
    {
     "name": "stdout",
     "output_type": "stream",
     "text": [
      "\n",
      "-19928.430233584382 0.00048302876836693706\n"
     ]
    },
    {
     "data": {
      "application/vnd.jupyter.widget-view+json": {
       "model_id": "da8a924d77a84552a3d18d8a1f802912",
       "version_major": 2,
       "version_minor": 0
      },
      "text/plain": [
       "HBox(children=(IntProgress(value=0, max=500), HTML(value='')))"
      ]
     },
     "metadata": {},
     "output_type": "display_data"
    },
    {
     "name": "stdout",
     "output_type": "stream",
     "text": [
      "\n",
      "-19833.032542518504 0.0003661740612314879\n"
     ]
    },
    {
     "data": {
      "application/vnd.jupyter.widget-view+json": {
       "model_id": "d6713c84dfcf4ebb881545833bbb58ca",
       "version_major": 2,
       "version_minor": 0
      },
      "text/plain": [
       "HBox(children=(IntProgress(value=0, max=500), HTML(value='')))"
      ]
     },
     "metadata": {},
     "output_type": "display_data"
    },
    {
     "name": "stdout",
     "output_type": "stream",
     "text": [
      "\n",
      "-20022.43413867941 0.0005573080886247916\n"
     ]
    },
    {
     "data": {
      "application/vnd.jupyter.widget-view+json": {
       "model_id": "75ae7e7fd9bf463784dc29a972d256b9",
       "version_major": 2,
       "version_minor": 0
      },
      "text/plain": [
       "HBox(children=(IntProgress(value=0, max=500), HTML(value='')))"
      ]
     },
     "metadata": {},
     "output_type": "display_data"
    },
    {
     "name": "stdout",
     "output_type": "stream",
     "text": [
      "\n",
      "-19905.212230018504 0.00042226285686053464\n"
     ]
    },
    {
     "data": {
      "application/vnd.jupyter.widget-view+json": {
       "model_id": "86f24993ded1452d9e38ee8cb72b6444",
       "version_major": 2,
       "version_minor": 0
      },
      "text/plain": [
       "HBox(children=(IntProgress(value=0, max=500), HTML(value='')))"
      ]
     },
     "metadata": {},
     "output_type": "display_data"
    },
    {
     "name": "stdout",
     "output_type": "stream",
     "text": [
      "\n",
      "-19821.102855018504 0.0003650180279844213\n"
     ]
    },
    {
     "data": {
      "application/vnd.jupyter.widget-view+json": {
       "model_id": "58ea2063a4b4440797f04bd957dabcfa",
       "version_major": 2,
       "version_minor": 0
      },
      "text/plain": [
       "HBox(children=(IntProgress(value=0, max=500), HTML(value='')))"
      ]
     },
     "metadata": {},
     "output_type": "display_data"
    },
    {
     "name": "stdout",
     "output_type": "stream",
     "text": [
      "\n",
      "-19909.34495042737 0.0004277887322689501\n"
     ]
    }
   ],
   "source": [
    "for _ in range(20):\n",
    "    \n",
    "    _pe = list()\n",
    "    _pe_eff = list()\n",
    "\n",
    "    for i in tqdm.tqdm_notebook(range(500)):\n",
    "        sim.step(50)\n",
    "        state = sim.context.getState(getEnergy=True)\n",
    "        nrg = state.getPotentialEnergy()\n",
    "\n",
    "        eff_nrg = sim.integrator.getEffectiveEnergy(nrg)\n",
    "        _pe.append(nrg)\n",
    "        _pe_eff.append(eff_nrg)\n",
    "        \n",
    "    p_amd = np.array([i/kilojoule*mole for i in _pe]) #this is the naive PE\n",
    "    p_eff = np.array([i/kilojoule*mole for i in _pe_eff]) #this is the actually experienced PE\n",
    "    \n",
    "    _vmax = p_eff.max() #maximum of actually exp. PE\n",
    "    _vmin = p_eff.min() #Minimum\n",
    "    _vavg = p_eff.mean() #average\n",
    "    _std = np.std(p_eff) #standard dev.\n",
    "    \n",
    "    k_0 = min(1,(sigma_0/_std ) * ((_vmax-_vmin)/(_vmax-_vavg)))\n",
    "    k = k_0 * (1 / (_vmax - _vmin) )\n",
    "\n",
    "    state = sim.context.getState(getPositions=True, getVelocities=True)\n",
    "\n",
    "    ks.append(k)\n",
    "    \n",
    "    print(_vmax, k)\n",
    "    \n",
    "    sim = make_GaMD_system(modeller, state, _vmax, k)\n",
    "    \n",
    "    pe_effective.append(p_eff)\n",
    "    pe_unboosted.append(p_amd)"
   ]
  },
  {
   "cell_type": "markdown",
   "metadata": {},
   "source": [
    "got to be converged this time:\n"
   ]
  },
  {
   "cell_type": "code",
   "execution_count": 36,
   "metadata": {},
   "outputs": [
    {
     "data": {
      "text/plain": [
       "[<matplotlib.lines.Line2D at 0x7f32e3a16890>]"
      ]
     },
     "execution_count": 36,
     "metadata": {},
     "output_type": "execute_result"
    },
    {
     "data": {
      "image/png": "[encoded data removed]",
      "text/plain": [
       "<Figure size 432x288 with 1 Axes>"
      ]
     },
     "metadata": {
      "needs_background": "light"
     },
     "output_type": "display_data"
    }
   ],
   "source": [
    "plt.plot([max(i) for i in pe_effective], '-o')"
   ]
  },
  {
   "cell_type": "markdown",
   "metadata": {},
   "source": [
    "# Now the ultimate test. Is the boost Gaussian shaped?"
   ]
  },
  {
   "cell_type": "code",
   "execution_count": 41,
   "metadata": {},
   "outputs": [
    {
     "data": {
      "text/plain": [
       "<AxesSubplot:>"
      ]
     },
     "execution_count": 41,
     "metadata": {},
     "output_type": "execute_result"
    },
    {
     "data": {
      "image/png": "[encoded data removed]",
      "text/plain": [
       "<Figure size 432x288 with 1 Axes>"
      ]
     },
     "metadata": {
      "needs_background": "light"
     },
     "output_type": "display_data"
    }
   ],
   "source": [
    "from seaborn import kdeplot\n",
    "kdeplot(p_amd - p_eff,)"
   ]
  },
  {
   "cell_type": "code",
   "execution_count": 45,
   "metadata": {},
   "outputs": [
    {
     "data": {
      "image/png": "[encoded data removed]",
      "text/plain": [
       "<Figure size 432x288 with 1 Axes>"
      ]
     },
     "metadata": {
      "needs_background": "light"
     },
     "output_type": "display_data"
    }
   ],
   "source": [
    "_=plt.hist(p_amd - p_eff, bins=30)"
   ]
  },
  {
   "cell_type": "code",
   "execution_count": null,
   "metadata": {},
   "outputs": [],
   "source": []
  }
 ],
 "metadata": {
  "kernelspec": {
   "display_name": "Python 3",
   "language": "python",
   "name": "python3"
  },
  "language_info": {
   "codemirror_mode": {
    "name": "ipython",
    "version": 3
   },
   "file_extension": ".py",
   "mimetype": "text/x-python",
   "name": "python",
   "nbconvert_exporter": "python",
   "pygments_lexer": "ipython3",
   "version": "3.7.8"
  }
 },
 "nbformat": 4,
 "nbformat_minor": 4
}
