{
 "cells": [
  {
   "cell_type": "code",
   "execution_count": 104,
   "metadata": {},
   "outputs": [],
   "source": [
    "from simtk.openmm.app import *\n",
    "from simtk.openmm import *\n",
    "from simtk.unit import *\n",
    "import numpy as np\n",
    "import matplotlib.pyplot as plt\n",
    "import tqdm\n",
    "import statsmodels.api as sm\n",
    "from statsmodels.tsa.ar_model import AutoReg\n",
    "\n",
    "TEMPERATURE = 310*kelvin\n",
    "FRICTION = 1/picosecond\n",
    "TIMESTEP = 2*femtoseconds\n",
    "\n",
    "SIGMA0 = (MOLAR_GAS_CONSTANT_R * TEMPERATURE ).value_in_unit(kilojoule_per_mole) * 10"
   ]
  },
  {
   "cell_type": "code",
   "execution_count": 161,
   "metadata": {},
   "outputs": [],
   "source": [
    "class CustomGaMDLangevinIntegrator(CustomIntegrator):\n",
    "    def __init__(self, temperature, friction, dt, ktot, Etot, kgrp, Egrp, forceGroup):\n",
    "        self.ktot = ktot \n",
    "        self.Etot = Etot \n",
    "        self.kgrp = kgrp\n",
    "        self.Egrp = Egrp\n",
    "        self.forceGroup = str(forceGroup)\n",
    "        \n",
    "        CustomIntegrator.__init__(self, dt)\n",
    "            #lew added:\n",
    "        self.addGlobalVariable(\"ktot\", self.ktot)\n",
    "        self.addGlobalVariable(\"Etot\", self.Etot)\n",
    "        self.addGlobalVariable(\"kgrp\", self.ktot)\n",
    "        self.addGlobalVariable(\"Egrp\", self.Egrp)\n",
    "        self.addGlobalVariable(\"groupEnergy\", 0)\n",
    "        \n",
    "            #normal langevin:  \n",
    "        self.addGlobalVariable(\"temperature\", temperature);\n",
    "        self.addGlobalVariable(\"friction\", friction);\n",
    "        self.addGlobalVariable(\"vscale\", 0);\n",
    "        self.addGlobalVariable(\"fscale\", 0);\n",
    "        self.addGlobalVariable(\"noisescale\", 0);\n",
    "        self.addPerDofVariable(\"x0\", 0);\n",
    "        \n",
    "        self.addPerDofVariable(\"fgrp\", 0)\n",
    "        \n",
    "            #normal langevin:                                                                  \n",
    "        self.addUpdateContextState();\n",
    "        \n",
    "        self.addComputeGlobal(\"groupEnergy\", \"energy\"+self.forceGroup)\n",
    "        self.addComputePerDof(\"fgrp\", \"f\"+self.forceGroup)\n",
    "        \n",
    "        self.addComputeGlobal(\"vscale\", \"exp(-dt*friction)\");\n",
    "        self.addComputeGlobal(\"fscale\", \"(1-vscale)/friction\");\n",
    "        #original line:                \n",
    "        self.addComputeGlobal(\"noisescale\", \"sqrt(kT*(1-vscale*vscale)); kT=0.00831451*temperature\");\n",
    "        self.addComputePerDof(\"x0\", \"x\");\n",
    "            #original langevin line:                                                                                      \n",
    "        #self.addComputePerDof(\"v\", \"vscale*v + fscale*f/m + noisescale*gaussian/sqrt(m)\");  \n",
    "            #GaMD:\n",
    "        dof_string = \"vscale*v + fscale*fprime/m + noisescale*gaussian/sqrt(m);\"\n",
    "        dof_string+= \"fprime= fprime1 + fprime2;\"\n",
    "        #fprime2 is the dihedral force modified by the boost. Boot calculated using group only. \n",
    "        dof_string+= \"fprime2 = fgrp*((1-modifyGroup) + modifyGroup*((groupEnergy + 0.5*kgrp*(Egrp-groupEnergy)^2)/groupEnergy)  );\"\n",
    "        #fprime1 is the other forces modified by the boost, but the boost is calculated using TOTAL energy. \n",
    "        dof_string+= \"fprime1 = ftot*((1-modifyTotal) + modifyTotal*((energy + 0.5*ktot*(Etot-energy )^2)/energy)  );\" \n",
    "        dof_string+= \"ftot=f-fgrp;\"\n",
    "        dof_string+= \"modifyGroup=step(Egrp-groupEnergy);\"\n",
    "        dof_string+= \"modifyTotal=step(Etot-energy);\"\n",
    "\n",
    "\n",
    "        self.addComputePerDof(\"v\", dof_string); \n",
    "            #normal langevin                                            \n",
    "        self.addComputePerDof(\"x\", \"x+dt*v\");\n",
    "        self.addConstrainPositions();\n",
    "        self.addComputePerDof(\"v\", \"(x-x0)/dt\");\n",
    "        self.addComputePerDof(\"veloc\", \"v\")\n",
    "        \n",
    "    def setKtot(self, newK):\n",
    "        if not is_quantity(newK):\n",
    "            newK = newK/kilojoules_per_mole\n",
    "        self.setGlobalVariableByName('ktot', newK)\n",
    "        \n",
    "    def setEtot(self, newE):\n",
    "        if not is_quantity(newE):\n",
    "            newE = newE*kilojoules_per_mole\n",
    "        self.setGlobalVariableByName('Etot', newE)\n",
    "        \n",
    "    def setKgrp(self, newK):\n",
    "        if not is_quantity(newK):\n",
    "            newK = newK/kilojoules_per_mole\n",
    "        self.setGlobalVariableByName('kgrp', newK)\n",
    "        \n",
    "    def setEgrp(self, newE):\n",
    "        if not is_quantity(newE):\n",
    "            newE = newE*kilojoules_per_mole\n",
    "        self.setGlobalVariableByName('Egrp', newE)\n",
    "          \n",
    "    def getGrpBoost(self, grpEnergy):\n",
    "        kgrp = self.getGlobalVariableByName('kgrp')/kilojoules_per_mole\n",
    "        Egrp = self.getGlobalVariableByName('Egrp')*kilojoules_per_mole\n",
    "        if not is_quantity(grpEnergy):\n",
    "            grpEnergy = grpEnergy*kilojoules_per_mole # Assume kJ/mole\n",
    "        if (grpEnergy > Egrp):\n",
    "            return 0*kilojoules_per_mole #no boosting\n",
    "        return ( 0.5 * kgrp * (Egrp-grpEnergy)**2 ) # 'k' parameter should instead be per kj/mol\n",
    "    \n",
    "    def getTotBoost(self, totEnergy):\n",
    "        ktot = self.getGlobalVariableByName('ktot')/kilojoules_per_mole\n",
    "        Etot = self.getGlobalVariableByName('Etot')*kilojoules_per_mole\n",
    "        if not is_quantity(totEnergy):\n",
    "            totEnergy = totEnergy*kilojoules_per_mole # Assume kJ/mole\n",
    "        if (totEnergy > Etot):\n",
    "            return 0*kilojoules_per_mole #no boosting\n",
    "        return ( 0.5 * ktot * (Etot-totEnergy)**2 ) # 'k' parameter should instead be per kj/mol\n",
    "        \n",
    "    def getEffectiveEnergy(self, totEnergy, grpEnergy):\n",
    "        if not is_quantity(totEnergy):\n",
    "            totEnergy = totEnergy*kilojoules_per_mole # Assume kJ/mole\n",
    "        if not is_quantity(grpEnergy):\n",
    "            grpEnergy = grpEnergy*kilojoules_per_mole # Assume kJ/mole\n",
    "        \n",
    "        group_boost = self.getGrpBoost(grpEnergy)\n",
    "        total_boost = self.getTotBoost(totEnergy)\n",
    "        \n",
    "        return totEnergy + group_boost + total_boost\n",
    "        \n",
    "        \n",
    "#     def getTotEffectiveEnergy(self, totEnergy, grpEnergy):\n",
    "#         \"\"\"Given the actual potential energy of the system, return the value of the effective potential.\"\"\"\n",
    "#         ktot = self.getGlobalVariableByName('ktot')/kilojoules_per_mole\n",
    "#         Etot = self.getGlobalVariableByName('Etot')*kilojoules_per_mole\n",
    "#         kgrp = self.getGlobalVariableByName('kgrp')/kilojoules_per_mole\n",
    "#         Egrp = self.getGlobalVariableByName('Egrp')*kilojoules_per_mole\n",
    "        \n",
    "#         if not is_quantity(totEnergy):\n",
    "#             totEnergy = totEnergy*kilojoules_per_mole # Assume kJ/mole\n",
    "#         if not is_quantity(grpEnergy):\n",
    "#             grpEnergy = grpEnergy*kilojoules_per_mole # Assume kJ/mole\n",
    "            \n",
    "#         dE = 0.0*kilojoules_per_mole\n",
    "#         if (totEnergy < Etot):\n",
    "#             dE = dE + ( 0.5 * ktot * (Etot-totEnergy)**2 )\n",
    "#         if (grpEnergy < Egrp):\n",
    "#             dE = dE + ( 0.5 * kgrp * (Egrp-grpEnergy)**2 )\n",
    "\n",
    "#         return totEnergy+dE \n",
    "\n"
   ]
  },
  {
   "cell_type": "code",
   "execution_count": 162,
   "metadata": {},
   "outputs": [],
   "source": [
    "def setup_system(filename):\n",
    "  \"\"\"Creates a 'system' object given a pdb filename\"\"\"\n",
    "  pdb = PDBFile(filename)\n",
    "  forcefield = app.ForceField('amber99sbildn.xml', 'tip3p.xml')\n",
    "  system = forcefield.createSystem(pdb.topology, nonbondedMethod=app.CutoffPeriodic, constraints=HBonds,)\n",
    "  system.addForce(MonteCarloBarostat(1*bar, 310*kelvin))\n",
    "  set_dihedral_force_group(system)\n",
    "  print('Created system')\n",
    "  return system, pdb\n",
    "\n",
    "\n",
    "def set_dihedral_force_group(system, g=2):\n",
    "  \"\"\"Sets the dihedral forcegroup to a number other than 0,\n",
    "  which will be used by serial tempering\"\"\"\n",
    "  print('Scanning forces:')\n",
    "  for f in system.getForces():\n",
    "    if isinstance(f, PeriodicTorsionForce):\n",
    "      print('Found the torsions - setting group to 2')\n",
    "      f.setForceGroup(2)\n",
    "    print(f.getForceGroup(), f.__class__)\n",
    "\n",
    "def setup_simulation(system, pdb, integrator):\n",
    "  \"\"\"Creates a simulation object\"\"\"\n",
    "  #platform = Platform.getPlatformByName('CPU')\n",
    "  platform = Platform.getPlatformByName('OpenCL')\n",
    "  prop = {'OpenCLPrecision':'single'}\n",
    "  simulation = Simulation(pdb.topology, system, integrator, platform, prop)\n",
    "  simulation.context.setPositions(pdb.positions)\n",
    "  simulation.minimizeEnergy()\n",
    "  simulation.context.setVelocitiesToTemperature(310*kelvin)\n",
    "  print('Created simulation')\n",
    "  return simulation\n",
    "\n"
   ]
  },
  {
   "cell_type": "code",
   "execution_count": 163,
   "metadata": {},
   "outputs": [],
   "source": [
    "filename ='./alanine-dipeptide-explicit.pdb'\n",
    "output_directory = './'\n"
   ]
  },
  {
   "cell_type": "code",
   "execution_count": 164,
   "metadata": {},
   "outputs": [
    {
     "name": "stdout",
     "output_type": "stream",
     "text": [
      "Scanning forces:\n",
      "0 <class 'simtk.openmm.openmm.HarmonicBondForce'>\n",
      "0 <class 'simtk.openmm.openmm.HarmonicAngleForce'>\n",
      "Found the torsions - setting group to 2\n",
      "2 <class 'simtk.openmm.openmm.PeriodicTorsionForce'>\n",
      "0 <class 'simtk.openmm.openmm.NonbondedForce'>\n",
      "0 <class 'simtk.openmm.openmm.CMMotionRemover'>\n",
      "0 <class 'simtk.openmm.openmm.MonteCarloBarostat'>\n",
      "Created system\n"
     ]
    }
   ],
   "source": [
    "system, pdb = setup_system(filename)\n",
    "\n"
   ]
  },
  {
   "cell_type": "code",
   "execution_count": 165,
   "metadata": {},
   "outputs": [],
   "source": [
    "integrator = CustomGaMDLangevinIntegrator(TEMPERATURE,\n",
    "                                         FRICTION,\n",
    "                                         TIMESTEP,\n",
    "                                         1/kilojoules_per_mole,\n",
    "                                         -1e6*kilojoules_per_mole,\n",
    "                                         1/kilojoules_per_mole,\n",
    "                                         -1e6*kilojoules_per_mole,\n",
    "                                         2)"
   ]
  },
  {
   "cell_type": "code",
   "execution_count": 166,
   "metadata": {},
   "outputs": [
    {
     "name": "stdout",
     "output_type": "stream",
     "text": [
      "Created simulation\n"
     ]
    }
   ],
   "source": [
    "sim =setup_simulation(system, pdb, integrator)"
   ]
  },
  {
   "cell_type": "code",
   "execution_count": 202,
   "metadata": {},
   "outputs": [],
   "source": [
    "def get_statistics(pe_trace, boost_trace=0):\n",
    "    arr = np.array(pe_trace)\n",
    "    arr = arr + np.array(boost_trace)\n",
    "    Vmax = arr.max()\n",
    "    Vmin = arr.min()\n",
    "    Vavg = arr.mean()\n",
    "    Vstd = np.std(arr)\n",
    "    \n",
    "    return [Vmax, Vmin, Vavg, Vstd]\n",
    "\n",
    "def calc_parameters(Vmax, Vmin, Vavg, Vstd, mode='low', sigma_0=SIGMA0, verbose=False):\n",
    "    E = Vmax\n",
    "    k_0 = min(1, sigma_0/Vstd * ((Vmax-Vmin)/(Vmax-Vavg)))\n",
    "    k = k_0 * (1 / (Vmax - Vmin) )\n",
    "    \n",
    "    if verbose:\n",
    "        return E, k, k_0\n",
    "    else:\n",
    "        return E, k"
   ]
  },
  {
   "cell_type": "markdown",
   "metadata": {},
   "source": [
    "# Collect some statistics from cMD:"
   ]
  },
  {
   "cell_type": "code",
   "execution_count": 203,
   "metadata": {},
   "outputs": [
    {
     "data": {
      "application/vnd.jupyter.widget-view+json": {
       "model_id": "1a0dd0a4932c41c28520a2f676ad4192",
       "version_major": 2,
       "version_minor": 0
      },
      "text/plain": [
       "HBox(children=(IntProgress(value=0, max=200), HTML(value='')))"
      ]
     },
     "metadata": {},
     "output_type": "display_data"
    }
   ],
   "source": [
    "grp_nrgs = list()\n",
    "tot_nrgs = list()\n",
    "\n",
    "\n",
    "for i in tqdm.tqdm_notebook(range(200)):\n",
    "    sim.step(100)\n",
    "    \n",
    "    grp_nrg = sim.context.getState(getEnergy=True, groups={2}).getPotentialEnergy()/kilojoule_per_mole\n",
    "    tot_nrg = sim.context.getState(getEnergy=True).getPotentialEnergy()/kilojoule_per_mole\n",
    "    \n",
    "    grp_nrgs.append(grp_nrg)\n",
    "    tot_nrgs.append(tot_nrg)\n",
    "    \n",
    "    "
   ]
  },
  {
   "cell_type": "code",
   "execution_count": 204,
   "metadata": {},
   "outputs": [],
   "source": [
    "Vmax, Vmin, Vavg, Vstd = get_statistics(tot_nrgs, 0 )\n",
    "E,k = calc_parameters(Vmax, Vmin, Vavg, Vstd)\n",
    "sim.integrator.setEtot(E)\n",
    "sim.integrator.setKtot(k)\n",
    "\n",
    "Vmax, Vmin, Vavg, Vstd = get_statistics(grp_nrgs, 0)\n",
    "E,k = calc_parameters(Vmax, Vmin, Vavg, Vstd, sigma_0 = SIGMA0*0.1)\n",
    "sim.integrator.setEgrp(E)\n",
    "sim.integrator.setKgrp(k)"
   ]
  },
  {
   "cell_type": "code",
   "execution_count": 206,
   "metadata": {
    "scrolled": true
   },
   "outputs": [
    {
     "data": {
      "application/vnd.jupyter.widget-view+json": {
       "model_id": "4d42afafa79c492580fa9101793babd7",
       "version_major": 2,
       "version_minor": 0
      },
      "text/plain": [
       "HBox(children=(IntProgress(value=0, max=200), HTML(value='')))"
      ]
     },
     "metadata": {},
     "output_type": "display_data"
    },
    {
     "name": "stdout",
     "output_type": "stream",
     "text": [
      "-28949.399067277085 0.0003943076648799004 0.30355151948217063\n",
      "76.89501953125 0.03578399393780092 0.9951709248616908\n"
     ]
    },
    {
     "data": {
      "application/vnd.jupyter.widget-view+json": {
       "model_id": "6a9ea7c5da4f4f45be7a9e50e1735fe9",
       "version_major": 2,
       "version_minor": 0
      },
      "text/plain": [
       "HBox(children=(IntProgress(value=0, max=200), HTML(value='')))"
      ]
     },
     "metadata": {},
     "output_type": "display_data"
    },
    {
     "name": "stdout",
     "output_type": "stream",
     "text": [
      "-28949.399067277085 0.00041014845714241094 0.31574630286927796\n",
      "76.89501953125 0.023893709234041244 0.6644961084597821\n"
     ]
    },
    {
     "data": {
      "application/vnd.jupyter.widget-view+json": {
       "model_id": "7217514ec36147629fedfd4ae73b7d93",
       "version_major": 2,
       "version_minor": 0
      },
      "text/plain": [
       "HBox(children=(IntProgress(value=0, max=200), HTML(value='')))"
      ]
     },
     "metadata": {},
     "output_type": "display_data"
    },
    {
     "name": "stdout",
     "output_type": "stream",
     "text": [
      "-28887.057420433364 0.0003626047202145312 0.30655923272453695\n",
      "76.89501953125 0.02845945726050168 0.7914718645499449\n"
     ]
    },
    {
     "data": {
      "application/vnd.jupyter.widget-view+json": {
       "model_id": "dc274a29b0324634b337c7251d98a6f9",
       "version_major": 2,
       "version_minor": 0
      },
      "text/plain": [
       "HBox(children=(IntProgress(value=0, max=200), HTML(value='')))"
      ]
     },
     "metadata": {},
     "output_type": "display_data"
    },
    {
     "name": "stdout",
     "output_type": "stream",
     "text": [
      "-28863.98013766142 0.0003517817714218772 0.3055272851702329\n",
      "76.89501953125 0.03300398992301658 0.9178576106653783\n"
     ]
    },
    {
     "data": {
      "application/vnd.jupyter.widget-view+json": {
       "model_id": "a5d9ef2890414a27bf8bad1ca0965ff2",
       "version_major": 2,
       "version_minor": 0
      },
      "text/plain": [
       "HBox(children=(IntProgress(value=0, max=200), HTML(value='')))"
      ]
     },
     "metadata": {},
     "output_type": "display_data"
    },
    {
     "name": "stdout",
     "output_type": "stream",
     "text": [
      "-28744.103147582988 0.00028092151469034016 0.27766020759061105\n",
      "76.89501953125 0.035761391672859605 0.9945423444705609\n"
     ]
    },
    {
     "data": {
      "application/vnd.jupyter.widget-view+json": {
       "model_id": "d09188cad6734366a1f91d2bf420d423",
       "version_major": 2,
       "version_minor": 0
      },
      "text/plain": [
       "HBox(children=(IntProgress(value=0, max=200), HTML(value='')))"
      ]
     },
     "metadata": {},
     "output_type": "display_data"
    },
    {
     "name": "stdout",
     "output_type": "stream",
     "text": [
      "-28743.1696932269 0.0002820719651970428 0.27906060345658\n",
      "76.89501953125 0.03595763606415068 1\n"
     ]
    },
    {
     "data": {
      "application/vnd.jupyter.widget-view+json": {
       "model_id": "2b26e216c4ba4f5d8bd4ccd9e78c89ec",
       "version_major": 2,
       "version_minor": 0
      },
      "text/plain": [
       "HBox(children=(IntProgress(value=0, max=200), HTML(value='')))"
      ]
     },
     "metadata": {},
     "output_type": "display_data"
    },
    {
     "name": "stdout",
     "output_type": "stream",
     "text": [
      "-28743.1696932269 0.0002835264847350424 0.283117112759215\n",
      "76.89501953125 0.03595763606415068 1\n"
     ]
    },
    {
     "data": {
      "application/vnd.jupyter.widget-view+json": {
       "model_id": "d32e7e9172af4e45acd34f04e5dbc24d",
       "version_major": 2,
       "version_minor": 0
      },
      "text/plain": [
       "HBox(children=(IntProgress(value=0, max=200), HTML(value='')))"
      ]
     },
     "metadata": {},
     "output_type": "display_data"
    },
    {
     "name": "stdout",
     "output_type": "stream",
     "text": [
      "-28743.1696932269 0.00028601414340134393 0.28560117959971454\n",
      "76.89501953125 0.03595763606415068 1\n"
     ]
    },
    {
     "data": {
      "application/vnd.jupyter.widget-view+json": {
       "model_id": "668096503f444230a7685cddbcafed68",
       "version_major": 2,
       "version_minor": 0
      },
      "text/plain": [
       "HBox(children=(IntProgress(value=0, max=200), HTML(value='')))"
      ]
     },
     "metadata": {},
     "output_type": "display_data"
    },
    {
     "name": "stdout",
     "output_type": "stream",
     "text": [
      "-28743.1696932269 0.0002835269789266791 0.28311760623730914\n",
      "76.89501953125 0.03595763606415068 1\n"
     ]
    },
    {
     "data": {
      "application/vnd.jupyter.widget-view+json": {
       "model_id": "24dcdcdf9338462396005a0e91f475b4",
       "version_major": 2,
       "version_minor": 0
      },
      "text/plain": [
       "HBox(children=(IntProgress(value=0, max=200), HTML(value='')))"
      ]
     },
     "metadata": {},
     "output_type": "display_data"
    },
    {
     "name": "stdout",
     "output_type": "stream",
     "text": [
      "-28743.1696932269 0.00028484861212432425 0.28443733118432313\n",
      "76.89501953125 0.03595763606415068 1\n"
     ]
    },
    {
     "data": {
      "application/vnd.jupyter.widget-view+json": {
       "model_id": "9d22e711b4b14ca58f751ebac84bc04b",
       "version_major": 2,
       "version_minor": 0
      },
      "text/plain": [
       "HBox(children=(IntProgress(value=0, max=200), HTML(value='')))"
      ]
     },
     "metadata": {},
     "output_type": "display_data"
    },
    {
     "name": "stdout",
     "output_type": "stream",
     "text": [
      "-28743.1696932269 0.0002853242585083193 0.28491229080249386\n",
      "76.89501953125 0.03595763606415068 1\n"
     ]
    },
    {
     "data": {
      "application/vnd.jupyter.widget-view+json": {
       "model_id": "b5cbc55455b04962aea2ec942535d0a9",
       "version_major": 2,
       "version_minor": 0
      },
      "text/plain": [
       "HBox(children=(IntProgress(value=0, max=200), HTML(value='')))"
      ]
     },
     "metadata": {},
     "output_type": "display_data"
    },
    {
     "name": "stdout",
     "output_type": "stream",
     "text": [
      "-28743.1696932269 0.0002866831701997736 0.28626924041846646\n",
      "76.89501953125 0.03595763606415068 1\n"
     ]
    },
    {
     "data": {
      "application/vnd.jupyter.widget-view+json": {
       "model_id": "4738f3c9f4444b2a8feceff19bfd25da",
       "version_major": 2,
       "version_minor": 0
      },
      "text/plain": [
       "HBox(children=(IntProgress(value=0, max=200), HTML(value='')))"
      ]
     },
     "metadata": {},
     "output_type": "display_data"
    },
    {
     "name": "stdout",
     "output_type": "stream",
     "text": [
      "-28743.1696932269 0.0002876701853639585 0.2872548304729361\n",
      "76.89501953125 0.03595763606415068 1\n"
     ]
    },
    {
     "data": {
      "application/vnd.jupyter.widget-view+json": {
       "model_id": "a59717eebd084b669ecb293129674ddb",
       "version_major": 2,
       "version_minor": 0
      },
      "text/plain": [
       "HBox(children=(IntProgress(value=0, max=200), HTML(value='')))"
      ]
     },
     "metadata": {},
     "output_type": "display_data"
    },
    {
     "ename": "KeyboardInterrupt",
     "evalue": "",
     "output_type": "error",
     "traceback": [
      "\u001b[0;31m---------------------------------------------------------------------------\u001b[0m",
      "\u001b[0;31mKeyboardInterrupt\u001b[0m                         Traceback (most recent call last)",
      "\u001b[0;32m<ipython-input-206-ba5f3371c260>\u001b[0m in \u001b[0;36m<module>\u001b[0;34m\u001b[0m\n\u001b[1;32m     18\u001b[0m \u001b[0;34m\u001b[0m\u001b[0m\n\u001b[1;32m     19\u001b[0m     \u001b[0;32mfor\u001b[0m \u001b[0mi\u001b[0m \u001b[0;32min\u001b[0m \u001b[0mtqdm\u001b[0m\u001b[0;34m.\u001b[0m\u001b[0mtqdm_notebook\u001b[0m\u001b[0;34m(\u001b[0m\u001b[0mrange\u001b[0m\u001b[0;34m(\u001b[0m\u001b[0;36m200\u001b[0m\u001b[0;34m)\u001b[0m\u001b[0;34m)\u001b[0m\u001b[0;34m:\u001b[0m\u001b[0;34m\u001b[0m\u001b[0;34m\u001b[0m\u001b[0m\n\u001b[0;32m---> 20\u001b[0;31m         \u001b[0msim\u001b[0m\u001b[0;34m.\u001b[0m\u001b[0mstep\u001b[0m\u001b[0;34m(\u001b[0m\u001b[0;36m500\u001b[0m\u001b[0;34m)\u001b[0m\u001b[0;34m\u001b[0m\u001b[0;34m\u001b[0m\u001b[0m\n\u001b[0m\u001b[1;32m     21\u001b[0m \u001b[0;34m\u001b[0m\u001b[0m\n\u001b[1;32m     22\u001b[0m         \u001b[0mgrp_nrg\u001b[0m \u001b[0;34m=\u001b[0m \u001b[0msim\u001b[0m\u001b[0;34m.\u001b[0m\u001b[0mcontext\u001b[0m\u001b[0;34m.\u001b[0m\u001b[0mgetState\u001b[0m\u001b[0;34m(\u001b[0m\u001b[0mgetEnergy\u001b[0m\u001b[0;34m=\u001b[0m\u001b[0;32mTrue\u001b[0m\u001b[0;34m,\u001b[0m \u001b[0mgroups\u001b[0m\u001b[0;34m=\u001b[0m\u001b[0;34m{\u001b[0m\u001b[0;36m2\u001b[0m\u001b[0;34m}\u001b[0m\u001b[0;34m)\u001b[0m\u001b[0;34m.\u001b[0m\u001b[0mgetPotentialEnergy\u001b[0m\u001b[0;34m(\u001b[0m\u001b[0;34m)\u001b[0m\u001b[0;34m/\u001b[0m\u001b[0mkilojoules_per_mole\u001b[0m\u001b[0;34m\u001b[0m\u001b[0;34m\u001b[0m\u001b[0m\n",
      "\u001b[0;32m~/miniconda3/envs/lew_conda/lib/python3.7/site-packages/simtk/openmm/app/simulation.py\u001b[0m in \u001b[0;36mstep\u001b[0;34m(self, steps)\u001b[0m\n\u001b[1;32m    130\u001b[0m     \u001b[0;32mdef\u001b[0m \u001b[0mstep\u001b[0m\u001b[0;34m(\u001b[0m\u001b[0mself\u001b[0m\u001b[0;34m,\u001b[0m \u001b[0msteps\u001b[0m\u001b[0;34m)\u001b[0m\u001b[0;34m:\u001b[0m\u001b[0;34m\u001b[0m\u001b[0;34m\u001b[0m\u001b[0m\n\u001b[1;32m    131\u001b[0m         \u001b[0;34m\"\"\"Advance the simulation by integrating a specified number of time steps.\"\"\"\u001b[0m\u001b[0;34m\u001b[0m\u001b[0;34m\u001b[0m\u001b[0m\n\u001b[0;32m--> 132\u001b[0;31m         \u001b[0mself\u001b[0m\u001b[0;34m.\u001b[0m\u001b[0m_simulate\u001b[0m\u001b[0;34m(\u001b[0m\u001b[0mendStep\u001b[0m\u001b[0;34m=\u001b[0m\u001b[0mself\u001b[0m\u001b[0;34m.\u001b[0m\u001b[0mcurrentStep\u001b[0m\u001b[0;34m+\u001b[0m\u001b[0msteps\u001b[0m\u001b[0;34m)\u001b[0m\u001b[0;34m\u001b[0m\u001b[0;34m\u001b[0m\u001b[0m\n\u001b[0m\u001b[1;32m    133\u001b[0m \u001b[0;34m\u001b[0m\u001b[0m\n\u001b[1;32m    134\u001b[0m     \u001b[0;32mdef\u001b[0m \u001b[0mrunForClockTime\u001b[0m\u001b[0;34m(\u001b[0m\u001b[0mself\u001b[0m\u001b[0;34m,\u001b[0m \u001b[0mtime\u001b[0m\u001b[0;34m,\u001b[0m \u001b[0mcheckpointFile\u001b[0m\u001b[0;34m=\u001b[0m\u001b[0;32mNone\u001b[0m\u001b[0;34m,\u001b[0m \u001b[0mstateFile\u001b[0m\u001b[0;34m=\u001b[0m\u001b[0;32mNone\u001b[0m\u001b[0;34m,\u001b[0m \u001b[0mcheckpointInterval\u001b[0m\u001b[0;34m=\u001b[0m\u001b[0;32mNone\u001b[0m\u001b[0;34m)\u001b[0m\u001b[0;34m:\u001b[0m\u001b[0;34m\u001b[0m\u001b[0;34m\u001b[0m\u001b[0m\n",
      "\u001b[0;32m~/miniconda3/envs/lew_conda/lib/python3.7/site-packages/simtk/openmm/app/simulation.py\u001b[0m in \u001b[0;36m_simulate\u001b[0;34m(self, endStep, endTime)\u001b[0m\n\u001b[1;32m    195\u001b[0m             \u001b[0mstepsToGo\u001b[0m \u001b[0;34m=\u001b[0m \u001b[0mnextSteps\u001b[0m\u001b[0;34m\u001b[0m\u001b[0;34m\u001b[0m\u001b[0m\n\u001b[1;32m    196\u001b[0m             \u001b[0;32mwhile\u001b[0m \u001b[0mstepsToGo\u001b[0m \u001b[0;34m>\u001b[0m \u001b[0;36m10\u001b[0m\u001b[0;34m:\u001b[0m\u001b[0;34m\u001b[0m\u001b[0;34m\u001b[0m\u001b[0m\n\u001b[0;32m--> 197\u001b[0;31m                 \u001b[0mself\u001b[0m\u001b[0;34m.\u001b[0m\u001b[0mintegrator\u001b[0m\u001b[0;34m.\u001b[0m\u001b[0mstep\u001b[0m\u001b[0;34m(\u001b[0m\u001b[0;36m10\u001b[0m\u001b[0;34m)\u001b[0m \u001b[0;31m# Only take 10 steps at a time, to give Python more chances to respond to a control-c.\u001b[0m\u001b[0;34m\u001b[0m\u001b[0;34m\u001b[0m\u001b[0m\n\u001b[0m\u001b[1;32m    198\u001b[0m                 \u001b[0mstepsToGo\u001b[0m \u001b[0;34m-=\u001b[0m \u001b[0;36m10\u001b[0m\u001b[0;34m\u001b[0m\u001b[0;34m\u001b[0m\u001b[0m\n\u001b[1;32m    199\u001b[0m                 \u001b[0mself\u001b[0m\u001b[0;34m.\u001b[0m\u001b[0mcurrentStep\u001b[0m \u001b[0;34m+=\u001b[0m \u001b[0;36m10\u001b[0m\u001b[0;34m\u001b[0m\u001b[0;34m\u001b[0m\u001b[0m\n",
      "\u001b[0;32m~/miniconda3/envs/lew_conda/lib/python3.7/site-packages/simtk/openmm/openmm.py\u001b[0m in \u001b[0;36mstep\u001b[0;34m(self, steps)\u001b[0m\n\u001b[1;32m  11764\u001b[0m             \u001b[0mthe\u001b[0m \u001b[0mnumber\u001b[0m \u001b[0mof\u001b[0m \u001b[0mtime\u001b[0m \u001b[0msteps\u001b[0m \u001b[0mto\u001b[0m \u001b[0mtake\u001b[0m\u001b[0;34m\u001b[0m\u001b[0;34m\u001b[0m\u001b[0m\n\u001b[1;32m  11765\u001b[0m         \"\"\"\n\u001b[0;32m> 11766\u001b[0;31m         \u001b[0;32mreturn\u001b[0m \u001b[0m_openmm\u001b[0m\u001b[0;34m.\u001b[0m\u001b[0mCustomIntegrator_step\u001b[0m\u001b[0;34m(\u001b[0m\u001b[0mself\u001b[0m\u001b[0;34m,\u001b[0m \u001b[0msteps\u001b[0m\u001b[0;34m)\u001b[0m\u001b[0;34m\u001b[0m\u001b[0;34m\u001b[0m\u001b[0m\n\u001b[0m\u001b[1;32m  11767\u001b[0m \u001b[0;34m\u001b[0m\u001b[0m\n\u001b[1;32m  11768\u001b[0m     \u001b[0;32mdef\u001b[0m \u001b[0mgetPerDofVariable\u001b[0m\u001b[0;34m(\u001b[0m\u001b[0mself\u001b[0m\u001b[0;34m,\u001b[0m \u001b[0;34m*\u001b[0m\u001b[0margs\u001b[0m\u001b[0;34m)\u001b[0m\u001b[0;34m:\u001b[0m\u001b[0;34m\u001b[0m\u001b[0;34m\u001b[0m\u001b[0m\n",
      "\u001b[0;31mKeyboardInterrupt\u001b[0m: "
     ]
    }
   ],
   "source": [
    "grp_nrgs = list()\n",
    "tot_nrgs = list()\n",
    "\n",
    "grp_boosts = list()\n",
    "tot_boosts = list()\n",
    "\n",
    "ks = list()\n",
    "k_0s = list()\n",
    "vmaxs = list()\n",
    "\n",
    "gks = list()\n",
    "gk_0s = list()\n",
    "gvmaxs = list()\n",
    "\n",
    "for _ in range(20):\n",
    "    #equil:\n",
    "    sim.step(1000)\n",
    "    \n",
    "    for i in tqdm.tqdm_notebook(range(200)):\n",
    "        sim.step(500)\n",
    "        \n",
    "        grp_nrg = sim.context.getState(getEnergy=True, groups={2}).getPotentialEnergy()/kilojoules_per_mole\n",
    "        tot_nrg = sim.context.getState(getEnergy=True,).getPotentialEnergy()/kilojoules_per_mole\n",
    "        \n",
    "        grp_boost = sim.integrator.getGrpBoost(grp_nrg)/kilojoule_per_mole\n",
    "        tot_boost = sim.integrator.getTotBoost(tot_nrg)/kilojoule_per_mole\n",
    "        \n",
    "        grp_boosts.append(grp_boost)\n",
    "        tot_boosts.append(tot_boost)\n",
    "        \n",
    "        grp_nrgs.append(grp_nrg)\n",
    "        tot_nrgs.append(tot_nrg)\n",
    "        \n",
    "    Vmax, Vmin, Vavg, Vstd = get_statistics(tot_nrgs, tot_boosts)\n",
    "    E,k,k_0 = calc_parameters(Vmax, Vmin, Vavg, Vstd, verbose=True)\n",
    "    sim.integrator.setEtot(E)\n",
    "    sim.integrator.setKtot(k)\n",
    "    \n",
    "    ks.append(k)\n",
    "    k_0s.append(k_0)\n",
    "    vmaxs.append(E)\n",
    "    print(E, k, k_0)\n",
    "\n",
    "    #smaller SIGMA0 for dihedrals group:\n",
    "    Vmax, Vmin, Vavg, Vstd = get_statistics(grp_nrgs, grp_boosts)\n",
    "    E,k,k_0 = calc_parameters(Vmax, Vmin, Vavg, Vstd, sigma_0 = SIGMA0*0.1, verbose=True)\n",
    "    sim.integrator.setEgrp(E)\n",
    "    sim.integrator.setKgrp(k)\n",
    "    \n",
    "    gks.append(k)\n",
    "    gk_0s.append(k_0)\n",
    "    gvmaxs.append(E)\n",
    "    print(E, k, k_0)\n",
    "\n",
    "    "
   ]
  },
  {
   "cell_type": "code",
   "execution_count": 208,
   "metadata": {},
   "outputs": [
    {
     "data": {
      "text/plain": [
       "[<matplotlib.lines.Line2D at 0x7f81737aa1d0>]"
      ]
     },
     "execution_count": 208,
     "metadata": {},
     "output_type": "execute_result"
    },
    {
     "data": {
      "image/png": "[encoded data removed]",
      "text/plain": [
       "<Figure size 432x288 with 1 Axes>"
      ]
     },
     "metadata": {
      "needs_background": "light"
     },
     "output_type": "display_data"
    }
   ],
   "source": [
    "plt.plot(grp_boosts)"
   ]
  },
  {
   "cell_type": "code",
   "execution_count": 209,
   "metadata": {},
   "outputs": [
    {
     "data": {
      "text/plain": [
       "[<matplotlib.lines.Line2D at 0x7f816f30c450>]"
      ]
     },
     "execution_count": 209,
     "metadata": {},
     "output_type": "execute_result"
    },
    {
     "data": {
      "image/png": "[encoded data removed]",
      "text/plain": [
       "<Figure size 432x288 with 1 Axes>"
      ]
     },
     "metadata": {
      "needs_background": "light"
     },
     "output_type": "display_data"
    }
   ],
   "source": [
    "plt.plot(tot_boosts)"
   ]
  },
  {
   "cell_type": "code",
   "execution_count": 210,
   "metadata": {},
   "outputs": [
    {
     "data": {
      "text/plain": [
       "<AxesSubplot:>"
      ]
     },
     "execution_count": 210,
     "metadata": {},
     "output_type": "execute_result"
    },
    {
     "data": {
      "image/png": "[encoded data removed]",
      "text/plain": [
       "<Figure size 432x288 with 1 Axes>"
      ]
     },
     "metadata": {
      "needs_background": "light"
     },
     "output_type": "display_data"
    }
   ],
   "source": [
    "from seaborn import kdeplot\n",
    "kdeplot(tot_boosts[1000:])"
   ]
  },
  {
   "cell_type": "code",
   "execution_count": 211,
   "metadata": {},
   "outputs": [
    {
     "data": {
      "text/plain": [
       "<AxesSubplot:>"
      ]
     },
     "execution_count": 211,
     "metadata": {},
     "output_type": "execute_result"
    },
    {
     "data": {
      "image/png": "[encoded data removed]",
      "text/plain": [
       "<Figure size 432x288 with 1 Axes>"
      ]
     },
     "metadata": {
      "needs_background": "light"
     },
     "output_type": "display_data"
    }
   ],
   "source": [
    "kdeplot(grp_boosts[1000:])"
   ]
  },
  {
   "cell_type": "code",
   "execution_count": null,
   "metadata": {},
   "outputs": [],
   "source": []
  },
  {
   "cell_type": "code",
   "execution_count": null,
   "metadata": {},
   "outputs": [],
   "source": []
  },
  {
   "cell_type": "code",
   "execution_count": null,
   "metadata": {},
   "outputs": [],
   "source": []
  },
  {
   "cell_type": "code",
   "execution_count": null,
   "metadata": {},
   "outputs": [],
   "source": []
  },
  {
   "cell_type": "code",
   "execution_count": null,
   "metadata": {},
   "outputs": [],
   "source": []
  },
  {
   "cell_type": "code",
   "execution_count": null,
   "metadata": {},
   "outputs": [],
   "source": []
  }
 ],
 "metadata": {
  "kernelspec": {
   "display_name": "Python 3",
   "language": "python",
   "name": "python3"
  },
  "language_info": {
   "codemirror_mode": {
    "name": "ipython",
    "version": 3
   },
   "file_extension": ".py",
   "mimetype": "text/x-python",
   "name": "python",
   "nbconvert_exporter": "python",
   "pygments_lexer": "ipython3",
   "version": "3.7.8"
  }
 },
 "nbformat": 4,
 "nbformat_minor": 4
}
